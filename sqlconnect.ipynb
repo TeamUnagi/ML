{
 "cells": [
  {
   "cell_type": "code",
   "execution_count": 10,
   "metadata": {},
   "outputs": [],
   "source": [
    "import pyodbc\n",
    "conn_str = (\n",
    "    r'DRIVER={SQL Server};'\n",
    "    r'SERVER=unagisqlserver.database.windows.net;'\n",
    "    r'DATABASE=unagi;'\n",
    "    r'UID=Dhanush;'\n",
    "    r'PWD=Dan@123#;'\n",
    ")\n",
    "cnxn=pyodbc.connect(conn_str)\n",
    "cursor=cnxn.cursor()\n",
    "cursor.execute(\"SELECT Date,Temperature FROM dbo.Ampara\")\n",
    "output=[]\n",
    "while 1:\n",
    "    row=cursor.fetchone()\n",
    "    if not row:\n",
    "        break\n",
    "    output.append(row.Date)\n",
    "    output.append(row.Temperature)\n",
    "f=open(\"AmparaAll.csv\",\"x\")\n",
    "f.close()\n",
    "length=len(output)\n",
    "f=open(\"AmparaAll.csv\",\"a\")\n",
    "f.write(\"Date,Temperature\")\n",
    "f.write(\"\\n\")\n",
    "i=0\n",
    "while i<length:\n",
    "    f.write(\"{},{}\".format(output[i],output[i+1]))\n",
    "    f.write(\"\\n\")\n",
    "    i=i+2\n",
    "f.close()\n",
    "cnxn.close()"
   ]
  },
  {
   "cell_type": "code",
   "execution_count": null,
   "metadata": {},
   "outputs": [],
   "source": []
  }
 ],
 "metadata": {
  "kernelspec": {
   "display_name": "Python 3",
   "language": "python",
   "name": "python3"
  },
  "language_info": {
   "codemirror_mode": {
    "name": "ipython",
    "version": 3
   },
   "file_extension": ".py",
   "mimetype": "text/x-python",
   "name": "python",
   "nbconvert_exporter": "python",
   "pygments_lexer": "ipython3",
   "version": "3.7.4"
  }
 },
 "nbformat": 4,
 "nbformat_minor": 2
}
