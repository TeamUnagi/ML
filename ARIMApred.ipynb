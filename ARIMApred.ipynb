{
 "cells": [
  {
   "cell_type": "code",
   "execution_count": 39,
   "metadata": {},
   "outputs": [
    {
     "name": "stdout",
     "output_type": "stream",
     "text": [
      "predicted=833.385329, expected=828.900000\n",
      "predicted=756.452037, expected=975.600000\n",
      "predicted=1010.803899, expected=994.500000\n",
      "predicted=1016.872638, expected=1057.400000\n",
      "predicted=1069.377222, expected=1279.400000\n",
      "predicted=1226.871944, expected=1396.500000\n",
      "predicted=1446.025755, expected=1370.900000\n",
      "predicted=1424.345500, expected=1447.400000\n",
      "predicted=1433.788317, expected=1453.300000\n",
      "predicted=1457.317831, expected=1700.300000\n",
      "predicted=1760.392847, expected=1666.000000\n",
      "predicted=1687.283454, expected=1931.400000\n",
      "predicted=1958.251247, expected=1856.200000\n",
      "predicted=1908.700528, expected=1972.700000\n",
      "predicted=2012.355571, expected=2041.600000\n",
      "predicted=2042.466062, expected=2211.400000\n",
      "predicted=2248.388968, expected=2344.300000\n"
     ]
    },
    {
     "data": {
      "image/png": "[encoded data removed]",
      "text/plain": [
       "<Figure size 432x288 with 1 Axes>"
      ]
     },
     "metadata": {
      "needs_background": "light"
     },
     "output_type": "display_data"
    }
   ],
   "source": [
    "from pandas import read_csv\n",
    "from pandas import datetime\n",
    "from matplotlib import pyplot\n",
    "from sklearn.metrics import mean_squared_error\n",
    "from math import sqrt\n",
    "from statsmodels.tsa.arima_model import ARIMA\n",
    "from sklearn.metrics import mean_squared_error\n",
    "from statsmodels.tsa.ar_model import AR\n",
    "import numpy\n",
    "from statsmodels.tsa.ar_model import ARResults\n",
    "def parser(x):\n",
    "\treturn (x)\n",
    "series = read_csv('farm3ARIMA.csv', header=0, parse_dates=[0], index_col=0, squeeze=True, date_parser=parser)\n",
    "X = series.values\n",
    "size = int(len(X) * 0.66)\n",
    "train, test = X[0:size], X[size:len(X)]\n",
    "history = [x for x in train]\n",
    "predictions = list()\n",
    "for t in range(len(test)):\n",
    "\tmodel = ARIMA(history, order=(5,1,0))\n",
    "\tmodel_fit = model.fit(disp=0)\n",
    "\toutput = model_fit.forecast()\n",
    "\tyhat = output[0]\n",
    "\tpredictions.append(yhat)\n",
    "\tobs = test[t]\n",
    "\thistory.append(obs)\n",
    "\tprint('predicted=%f, expected=%f' % (yhat, obs))\n",
    "error = sqrt(mean_squared_error(test, predictions))\n",
    " \n",
    "# create a difference transform of the dataset\n",
    "def difference(dataset):\n",
    "\tdiff = list()\n",
    "\tfor i in range(1, len(dataset)):\n",
    "\t\tvalue = dataset[i] - dataset[i - 1]\n",
    "\t\tdiff.append(value)\n",
    "\treturn numpy.array(diff)\n",
    " \n",
    "# load dataset\n",
    "series = read_csv('farm3ARIMA.csv', header=0, index_col=0)\n",
    "X = difference(series.values)\n",
    "# fit model\n",
    "model = AR(X)\n",
    "model_fit = model.fit(maxlag=6, disp=False)\n",
    "# save model to file\n",
    "model_fit.save('armodel.pkl')\n",
    "# save the differenced dataset\n",
    "numpy.save('ardata.npy', X)\n",
    "# save the last ob\n",
    "numpy.save('arobs.npy', [series.values[-1]])\n",
    "# plot\n",
    "pyplot.plot(test)\n",
    "pyplot.plot(predictions, color='red')\n",
    "pyplot.show()"
   ]
  },
  {
   "cell_type": "code",
   "execution_count": null,
   "metadata": {},
   "outputs": [],
   "source": []
  },
  {
   "cell_type": "code",
   "execution_count": 40,
   "metadata": {},
   "outputs": [
    {
     "name": "stdout",
     "output_type": "stream",
     "text": [
      "Prediction: 2458.906059\n"
     ]
    }
   ],
   "source": [
    "# load AR model from file and make a one-step prediction\n",
    "from statsmodels.tsa.ar_model import ARResults\n",
    "import numpy\n",
    "# load model\n",
    "model = ARResults.load('armodel.pkl')\n",
    "data = numpy.load('ardata.npy')\n",
    "last_ob = numpy.load('arobs.npy')\n",
    "# make prediction\n",
    "predictions = model.predict(start=len(data), end=len(data))\n",
    "# transform prediction\n",
    "yhat = predictions[0] + last_ob[0]\n",
    "print('Prediction: %f' % yhat)"
   ]
  },
  {
   "cell_type": "code",
   "execution_count": 41,
   "metadata": {},
   "outputs": [],
   "source": [
    "# update the data for the AR model with a new obs\n",
    "import numpy\n",
    "# get real observation\n",
    "observation = 2465.5\n",
    "# load the saved data\n",
    "data = numpy.load('ardata.npy')\n",
    "last_ob = numpy.load('arobs.npy')\n",
    "# update and save differenced observation\n",
    "diffed = observation - last_ob[0]\n",
    "data = numpy.append(data, [diffed], axis=0)\n",
    "numpy.save('ardata.npy', data)\n",
    "# update and save real observation\n",
    "last_ob[0] = observation\n",
    "numpy.save('arobs.npy', last_ob)"
   ]
  },
  {
   "cell_type": "code",
   "execution_count": null,
   "metadata": {},
   "outputs": [],
   "source": []
  },
  {
   "cell_type": "code",
   "execution_count": null,
   "metadata": {},
   "outputs": [],
   "source": []
  },
  {
   "cell_type": "code",
   "execution_count": null,
   "metadata": {},
   "outputs": [],
   "source": []
  }
 ],
 "metadata": {
  "kernelspec": {
   "display_name": "Python 3",
   "language": "python",
   "name": "python3"
  },
  "language_info": {
   "codemirror_mode": {
    "name": "ipython",
    "version": 3
   },
   "file_extension": ".py",
   "mimetype": "text/x-python",
   "name": "python",
   "nbconvert_exporter": "python",
   "pygments_lexer": "ipython3",
   "version": "3.7.4"
  }
 },
 "nbformat": 4,
 "nbformat_minor": 2
}
