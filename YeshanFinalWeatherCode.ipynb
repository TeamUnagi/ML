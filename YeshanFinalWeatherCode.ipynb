{
 "cells": [
  {
   "cell_type": "code",
   "execution_count": 134,
   "metadata": {},
   "outputs": [],
   "source": [
    "import numpy as np\n",
    "import pandas as pd\n",
    "from pandas import datetime\n",
    "import matplotlib.pyplot as plt\n",
    "%matplotlib inline\n",
    "from statsmodels.tools.eval_measures import rmse\n",
    "from sklearn.preprocessing import MinMaxScaler\n",
    "from keras.preprocessing.sequence import TimeseriesGenerator\n",
    "from keras.models import Sequential\n",
    "from keras.layers import Dense\n",
    "from keras.layers import LSTM\n",
    "from keras.layers import Dropout\n",
    "import warnings\n",
    "warnings.filterwarnings(\"ignore\")\n",
    "\n",
    "def parser(x):\n",
    "    return datetime.strptime(x,'%m/%Y')\n",
    "\n",
    "df = pd.read_csv('D:\\WeatherFiles/Ampara.csv',parse_dates=[0],date_parser=parser)"
   ]
  },
  {
   "cell_type": "code",
   "execution_count": 135,
   "metadata": {},
   "outputs": [],
   "source": [
    "df = df.set_index('Date')"
   ]
  },
  {
   "cell_type": "code",
   "execution_count": 136,
   "metadata": {},
   "outputs": [
    {
     "data": {
      "text/plain": [
       "<matplotlib.axes._subplots.AxesSubplot at 0x20ac0716208>"
      ]
     },
     "execution_count": 136,
     "metadata": {},
     "output_type": "execute_result"
    },
    {
     "data": {
      "image/png": "[encoded data removed]",
      "text/plain": [
       "<Figure size 432x288 with 1 Axes>"
      ]
     },
     "metadata": {
      "needs_background": "light"
     },
     "output_type": "display_data"
    }
   ],
   "source": [
    "df.plot()"
   ]
  },
  {
   "cell_type": "code",
   "execution_count": 137,
   "metadata": {},
   "outputs": [
    {
     "data": {
      "text/plain": [
       "24"
      ]
     },
     "execution_count": 137,
     "metadata": {},
     "output_type": "execute_result"
    }
   ],
   "source": [
    "df.size"
   ]
  },
  {
   "cell_type": "code",
   "execution_count": 138,
   "metadata": {},
   "outputs": [],
   "source": [
    "train, test = df[:18], df[18:]"
   ]
  },
  {
   "cell_type": "code",
   "execution_count": 139,
   "metadata": {},
   "outputs": [],
   "source": [
    "scaler = MinMaxScaler()\n",
    "scaler.fit(train)\n",
    "train = scaler.transform(train)\n",
    "test = scaler.transform(test)"
   ]
  },
  {
   "cell_type": "code",
   "execution_count": 140,
   "metadata": {},
   "outputs": [],
   "source": [
    "n_input = 12\n",
    "n_features = 1\n",
    "generator = TimeseriesGenerator(train, train, length=n_input, batch_size=6)"
   ]
  },
  {
   "cell_type": "code",
   "execution_count": 141,
   "metadata": {},
   "outputs": [],
   "source": [
    "model = Sequential()\n",
    "model.add(LSTM(200, activation='relu', input_shape=(n_input, n_features)))\n",
    "model.add(Dropout(0.15))\n",
    "model.add(Dense(1))\n",
    "model.compile(optimizer='adam', loss='mse')"
   ]
  },
  {
   "cell_type": "code",
   "execution_count": 142,
   "metadata": {},
   "outputs": [
    {
     "name": "stdout",
     "output_type": "stream",
     "text": [
      "Epoch 1/90\n",
      "1/1 [==============================] - 0s 357ms/step - loss: 0.6219\n",
      "Epoch 2/90\n",
      "1/1 [==============================] - 0s 24ms/step - loss: 0.5908\n",
      "Epoch 3/90\n",
      "1/1 [==============================] - 0s 14ms/step - loss: 0.5483\n",
      "Epoch 4/90\n",
      "1/1 [==============================] - 0s 14ms/step - loss: 0.4945\n",
      "Epoch 5/90\n",
      "1/1 [==============================] - 0s 15ms/step - loss: 0.4563\n",
      "Epoch 6/90\n",
      "1/1 [==============================] - 0s 15ms/step - loss: 0.4059\n",
      "Epoch 7/90\n",
      "1/1 [==============================] - 0s 9ms/step - loss: 0.3577\n",
      "Epoch 8/90\n",
      "1/1 [==============================] - 0s 14ms/step - loss: 0.3062\n",
      "Epoch 9/90\n",
      "1/1 [==============================] - 0s 20ms/step - loss: 0.2699\n",
      "Epoch 10/90\n",
      "1/1 [==============================] - 0s 11ms/step - loss: 0.2241\n",
      "Epoch 11/90\n",
      "1/1 [==============================] - 0s 8ms/step - loss: 0.1714\n",
      "Epoch 12/90\n",
      "1/1 [==============================] - 0s 13ms/step - loss: 0.1269\n",
      "Epoch 13/90\n",
      "1/1 [==============================] - 0s 14ms/step - loss: 0.0691\n",
      "Epoch 14/90\n",
      "1/1 [==============================] - 0s 14ms/step - loss: 0.0693\n",
      "Epoch 15/90\n",
      "1/1 [==============================] - 0s 17ms/step - loss: 0.0873\n",
      "Epoch 16/90\n",
      "1/1 [==============================] - 0s 13ms/step - loss: 0.1171\n",
      "Epoch 17/90\n",
      "1/1 [==============================] - 0s 21ms/step - loss: 0.1129\n",
      "Epoch 18/90\n",
      "1/1 [==============================] - 0s 15ms/step - loss: 0.0731\n",
      "Epoch 19/90\n",
      "1/1 [==============================] - 0s 21ms/step - loss: 0.0774\n",
      "Epoch 20/90\n",
      "1/1 [==============================] - 0s 0us/step - loss: 0.0811\n",
      "Epoch 21/90\n",
      "1/1 [==============================] - 0s 0us/step - loss: 0.0534\n",
      "Epoch 22/90\n",
      "1/1 [==============================] - 0s 0us/step - loss: 0.0697\n",
      "Epoch 23/90\n",
      "1/1 [==============================] - 0s 17ms/step - loss: 0.0766\n",
      "Epoch 24/90\n",
      "1/1 [==============================] - 0s 16ms/step - loss: 0.0793\n",
      "Epoch 25/90\n",
      "1/1 [==============================] - 0s 7ms/step - loss: 0.0758\n",
      "Epoch 26/90\n",
      "1/1 [==============================] - 0s 0us/step - loss: 0.1027\n",
      "Epoch 27/90\n",
      "1/1 [==============================] - 0s 14ms/step - loss: 0.0832\n",
      "Epoch 28/90\n",
      "1/1 [==============================] - 0s 26ms/step - loss: 0.0755\n",
      "Epoch 29/90\n",
      "1/1 [==============================] - 0s 20ms/step - loss: 0.0842\n",
      "Epoch 30/90\n",
      "1/1 [==============================] - 0s 18ms/step - loss: 0.0699\n",
      "Epoch 31/90\n",
      "1/1 [==============================] - 0s 0us/step - loss: 0.0819\n",
      "Epoch 32/90\n",
      "1/1 [==============================] - 0s 0us/step - loss: 0.0479\n",
      "Epoch 33/90\n",
      "1/1 [==============================] - 0s 24ms/step - loss: 0.0497\n",
      "Epoch 34/90\n",
      "1/1 [==============================] - 0s 23ms/step - loss: 0.0790\n",
      "Epoch 35/90\n",
      "1/1 [==============================] - 0s 16ms/step - loss: 0.0690\n",
      "Epoch 36/90\n",
      "1/1 [==============================] - 0s 24ms/step - loss: 0.0610\n",
      "Epoch 37/90\n",
      "1/1 [==============================] - 0s 17ms/step - loss: 0.0668\n",
      "Epoch 38/90\n",
      "1/1 [==============================] - 0s 22ms/step - loss: 0.0663\n",
      "Epoch 39/90\n",
      "1/1 [==============================] - 0s 21ms/step - loss: 0.0510\n",
      "Epoch 40/90\n",
      "1/1 [==============================] - 0s 16ms/step - loss: 0.0602\n",
      "Epoch 41/90\n",
      "1/1 [==============================] - 0s 13ms/step - loss: 0.0419\n",
      "Epoch 42/90\n",
      "1/1 [==============================] - 0s 0us/step - loss: 0.0480\n",
      "Epoch 43/90\n",
      "1/1 [==============================] - 0s 15ms/step - loss: 0.0445\n",
      "Epoch 44/90\n",
      "1/1 [==============================] - 0s 23ms/step - loss: 0.0392\n",
      "Epoch 45/90\n",
      "1/1 [==============================] - 0s 15ms/step - loss: 0.0481\n",
      "Epoch 46/90\n",
      "1/1 [==============================] - 0s 25ms/step - loss: 0.0472\n",
      "Epoch 47/90\n",
      "1/1 [==============================] - 0s 12ms/step - loss: 0.0370\n",
      "Epoch 48/90\n",
      "1/1 [==============================] - 0s 21ms/step - loss: 0.0561\n",
      "Epoch 49/90\n",
      "1/1 [==============================] - 0s 20ms/step - loss: 0.0403\n",
      "Epoch 50/90\n",
      "1/1 [==============================] - 0s 26ms/step - loss: 0.0246\n",
      "Epoch 51/90\n",
      "1/1 [==============================] - 0s 25ms/step - loss: 0.0421\n",
      "Epoch 52/90\n",
      "1/1 [==============================] - 0s 9ms/step - loss: 0.0376\n",
      "Epoch 53/90\n",
      "1/1 [==============================] - 0s 16ms/step - loss: 0.0305\n",
      "Epoch 54/90\n",
      "1/1 [==============================] - 0s 28ms/step - loss: 0.0261\n",
      "Epoch 55/90\n",
      "1/1 [==============================] - 0s 21ms/step - loss: 0.0260\n",
      "Epoch 56/90\n",
      "1/1 [==============================] - 0s 17ms/step - loss: 0.0345\n",
      "Epoch 57/90\n",
      "1/1 [==============================] - 0s 13ms/step - loss: 0.0187\n",
      "Epoch 58/90\n",
      "1/1 [==============================] - 0s 14ms/step - loss: 0.0239\n",
      "Epoch 59/90\n",
      "1/1 [==============================] - 0s 0us/step - loss: 0.0297\n",
      "Epoch 60/90\n",
      "1/1 [==============================] - 0s 0us/step - loss: 0.0258\n",
      "Epoch 61/90\n",
      "1/1 [==============================] - 0s 28ms/step - loss: 0.0214\n",
      "Epoch 62/90\n",
      "1/1 [==============================] - 0s 27ms/step - loss: 0.0230\n",
      "Epoch 63/90\n",
      "1/1 [==============================] - 0s 24ms/step - loss: 0.0208\n",
      "Epoch 64/90\n",
      "1/1 [==============================] - 0s 15ms/step - loss: 0.0281\n",
      "Epoch 65/90\n",
      "1/1 [==============================] - 0s 20ms/step - loss: 0.0179\n",
      "Epoch 66/90\n",
      "1/1 [==============================] - 0s 44ms/step - loss: 0.0108\n",
      "Epoch 67/90\n",
      "1/1 [==============================] - 0s 35ms/step - loss: 0.0172\n",
      "Epoch 68/90\n",
      "1/1 [==============================] - 0s 19ms/step - loss: 0.0157\n",
      "Epoch 69/90\n",
      "1/1 [==============================] - 0s 18ms/step - loss: 0.0092\n",
      "Epoch 70/90\n",
      "1/1 [==============================] - 0s 23ms/step - loss: 0.0200\n",
      "Epoch 71/90\n",
      "1/1 [==============================] - 0s 15ms/step - loss: 0.0101\n",
      "Epoch 72/90\n",
      "1/1 [==============================] - 0s 0us/step - loss: 0.0081\n",
      "Epoch 73/90\n",
      "1/1 [==============================] - 0s 13ms/step - loss: 0.0076\n",
      "Epoch 74/90\n",
      "1/1 [==============================] - 0s 17ms/step - loss: 0.0072\n",
      "Epoch 75/90\n",
      "1/1 [==============================] - 0s 14ms/step - loss: 0.0094\n",
      "Epoch 76/90\n",
      "1/1 [==============================] - 0s 0us/step - loss: 0.0153\n",
      "Epoch 77/90\n",
      "1/1 [==============================] - 0s 16ms/step - loss: 0.0090\n",
      "Epoch 78/90\n",
      "1/1 [==============================] - 0s 0us/step - loss: 0.0086\n",
      "Epoch 79/90\n",
      "1/1 [==============================] - 0s 0us/step - loss: 0.0124\n",
      "Epoch 80/90\n",
      "1/1 [==============================] - 0s 16ms/step - loss: 0.0096\n",
      "Epoch 81/90\n",
      "1/1 [==============================] - 0s 0us/step - loss: 0.0132\n",
      "Epoch 82/90\n",
      "1/1 [==============================] - 0s 0us/step - loss: 0.0190\n",
      "Epoch 83/90\n",
      "1/1 [==============================] - 0s 0us/step - loss: 0.0110\n",
      "Epoch 84/90\n",
      "1/1 [==============================] - 0s 13ms/step - loss: 0.0088\n",
      "Epoch 85/90\n",
      "1/1 [==============================] - 0s 0us/step - loss: 0.0119\n",
      "Epoch 86/90\n",
      "1/1 [==============================] - 0s 0us/step - loss: 0.0108\n",
      "Epoch 87/90\n",
      "1/1 [==============================] - 0s 0us/step - loss: 0.0126\n",
      "Epoch 88/90\n",
      "1/1 [==============================] - 0s 0us/step - loss: 0.0059\n",
      "Epoch 89/90\n",
      "1/1 [==============================] - 0s 0us/step - loss: 0.0140\n",
      "Epoch 90/90\n",
      "1/1 [==============================] - 0s 0us/step - loss: 0.0108\n"
     ]
    },
    {
     "data": {
      "text/plain": [
       "<keras.callbacks.callbacks.History at 0x20ac089efc8>"
      ]
     },
     "execution_count": 142,
     "metadata": {},
     "output_type": "execute_result"
    }
   ],
   "source": [
    "model.fit_generator(generator,epochs=90)"
   ]
  },
  {
   "cell_type": "code",
   "execution_count": 143,
   "metadata": {},
   "outputs": [],
   "source": [
    "pred_list = []\n",
    "\n",
    "batch = train[-n_input:].reshape((1, n_input, n_features))\n",
    "\n",
    "for i in range(n_input):   \n",
    "    pred_list.append(model.predict(batch)[0]) \n",
    "    batch = np.append(batch[:,1:,:],[[pred_list[i]]],axis=1)"
   ]
  },
  {
   "cell_type": "code",
   "execution_count": 144,
   "metadata": {},
   "outputs": [],
   "source": [
    "df_predict = pd.DataFrame(scaler.inverse_transform(pred_list),\n",
    "                          index=df[-n_input:].index, columns=['Prediction'])\n",
    "\n",
    "df_test = pd.concat([df,df_predict], axis=1)"
   ]
  },
  {
   "cell_type": "code",
   "execution_count": 145,
   "metadata": {
    "scrolled": true
   },
   "outputs": [
    {
     "name": "stderr",
     "output_type": "stream",
     "text": [
      "No handles with labels found to put in legend.\n"
     ]
    },
    {
     "data": {
      "image/png": "[encoded data removed]",
      "text/plain": [
       "<Figure size 1440x360 with 1 Axes>"
      ]
     },
     "metadata": {
      "needs_background": "light"
     },
     "output_type": "display_data"
    }
   ],
   "source": [
    "plt.figure(figsize=(20, 5))\n",
    "plt.plot(df_test.index, df_test['Temp'])\n",
    "plt.plot(df_test.index, df_test['Prediction'], color='r')\n",
    "plt.legend(loc='best', fontsize='xx-large')\n",
    "plt.xticks(fontsize=18)\n",
    "plt.yticks(fontsize=16)\n",
    "plt.show()"
   ]
  },
  {
   "cell_type": "code",
   "execution_count": 146,
   "metadata": {},
   "outputs": [
    {
     "data": {
      "text/html": [
       "<div>\n",
       "<style scoped>\n",
       "    .dataframe tbody tr th:only-of-type {\n",
       "        vertical-align: middle;\n",
       "    }\n",
       "\n",
       "    .dataframe tbody tr th {\n",
       "        vertical-align: top;\n",
       "    }\n",
       "\n",
       "    .dataframe thead th {\n",
       "        text-align: right;\n",
       "    }\n",
       "</style>\n",
       "<table border=\"1\" class=\"dataframe\">\n",
       "  <thead>\n",
       "    <tr style=\"text-align: right;\">\n",
       "      <th></th>\n",
       "      <th>Temp</th>\n",
       "    </tr>\n",
       "    <tr>\n",
       "      <th>Date</th>\n",
       "      <th></th>\n",
       "    </tr>\n",
       "  </thead>\n",
       "  <tbody>\n",
       "    <tr>\n",
       "      <td>2014-08-01</td>\n",
       "      <td>20</td>\n",
       "    </tr>\n",
       "    <tr>\n",
       "      <td>2014-09-01</td>\n",
       "      <td>21</td>\n",
       "    </tr>\n",
       "    <tr>\n",
       "      <td>2014-10-01</td>\n",
       "      <td>22</td>\n",
       "    </tr>\n",
       "    <tr>\n",
       "      <td>2014-11-01</td>\n",
       "      <td>23</td>\n",
       "    </tr>\n",
       "    <tr>\n",
       "      <td>2014-12-01</td>\n",
       "      <td>24</td>\n",
       "    </tr>\n",
       "  </tbody>\n",
       "</table>\n",
       "</div>"
      ],
      "text/plain": [
       "            Temp\n",
       "Date            \n",
       "2014-08-01    20\n",
       "2014-09-01    21\n",
       "2014-10-01    22\n",
       "2014-11-01    23\n",
       "2014-12-01    24"
      ]
     },
     "execution_count": 146,
     "metadata": {},
     "output_type": "execute_result"
    }
   ],
   "source": [
    "df.tail()"
   ]
  },
  {
   "cell_type": "code",
   "execution_count": null,
   "metadata": {},
   "outputs": [],
   "source": []
  },
  {
   "cell_type": "code",
   "execution_count": 147,
   "metadata": {},
   "outputs": [
    {
     "name": "stdout",
     "output_type": "stream",
     "text": [
      "rmse:  [3.29455278]\n"
     ]
    }
   ],
   "source": [
    "pred_actual_rmse = rmse(df_test.iloc[-n_input:, [0]], df_test.iloc[-n_input:, [1]])\n",
    "print(\"rmse: \", pred_actual_rmse)"
   ]
  },
  {
   "cell_type": "code",
   "execution_count": 148,
   "metadata": {},
   "outputs": [],
   "source": [
    "train = df"
   ]
  },
  {
   "cell_type": "code",
   "execution_count": 149,
   "metadata": {},
   "outputs": [],
   "source": [
    "scaler.fit(train)\n",
    "train = scaler.transform(train)"
   ]
  },
  {
   "cell_type": "code",
   "execution_count": 150,
   "metadata": {},
   "outputs": [],
   "source": [
    "n_input = 12\n",
    "n_features = 1\n",
    "generator = TimeseriesGenerator(train, train, length=n_input, batch_size=6)"
   ]
  },
  {
   "cell_type": "code",
   "execution_count": 151,
   "metadata": {},
   "outputs": [
    {
     "name": "stdout",
     "output_type": "stream",
     "text": [
      "Epoch 1/90\n",
      "2/2 [==============================] - 0s 17ms/step - loss: 0.0425\n",
      "Epoch 2/90\n",
      "2/2 [==============================] - 0s 17ms/step - loss: 0.0406\n",
      "Epoch 3/90\n",
      "2/2 [==============================] - 0s 21ms/step - loss: 0.0486\n",
      "Epoch 4/90\n",
      "2/2 [==============================] - 0s 18ms/step - loss: 0.0427\n",
      "Epoch 5/90\n",
      "2/2 [==============================] - 0s 15ms/step - loss: 0.0379\n",
      "Epoch 6/90\n",
      "2/2 [==============================] - 0s 14ms/step - loss: 0.0437\n",
      "Epoch 7/90\n",
      "2/2 [==============================] - 0s 15ms/step - loss: 0.0182\n",
      "Epoch 8/90\n",
      "2/2 [==============================] - 0s 21ms/step - loss: 0.0343\n",
      "Epoch 9/90\n",
      "2/2 [==============================] - 0s 15ms/step - loss: 0.0276\n",
      "Epoch 10/90\n",
      "2/2 [==============================] - 0s 19ms/step - loss: 0.0280\n",
      "Epoch 11/90\n",
      "2/2 [==============================] - 0s 19ms/step - loss: 0.0294\n",
      "Epoch 12/90\n",
      "2/2 [==============================] - 0s 40ms/step - loss: 0.0139\n",
      "Epoch 13/90\n",
      "2/2 [==============================] - 0s 29ms/step - loss: 0.0234\n",
      "Epoch 14/90\n",
      "2/2 [==============================] - 0s 24ms/step - loss: 0.0220\n",
      "Epoch 15/90\n",
      "2/2 [==============================] - 0s 20ms/step - loss: 0.0141\n",
      "Epoch 16/90\n",
      "2/2 [==============================] - 0s 22ms/step - loss: 0.0239\n",
      "Epoch 17/90\n",
      "2/2 [==============================] - 0s 25ms/step - loss: 0.0125\n",
      "Epoch 18/90\n",
      "2/2 [==============================] - 0s 21ms/step - loss: 0.0168\n",
      "Epoch 19/90\n",
      "2/2 [==============================] - 0s 18ms/step - loss: 0.0166\n",
      "Epoch 20/90\n",
      "2/2 [==============================] - 0s 17ms/step - loss: 0.0136\n",
      "Epoch 21/90\n",
      "2/2 [==============================] - 0s 18ms/step - loss: 0.0136\n",
      "Epoch 22/90\n",
      "2/2 [==============================] - 0s 23ms/step - loss: 0.0149\n",
      "Epoch 23/90\n",
      "2/2 [==============================] - 0s 44ms/step - loss: 0.0094\n",
      "Epoch 24/90\n",
      "2/2 [==============================] - 0s 22ms/step - loss: 0.0092\n",
      "Epoch 25/90\n",
      "2/2 [==============================] - 0s 16ms/step - loss: 0.0112\n",
      "Epoch 26/90\n",
      "2/2 [==============================] - 0s 17ms/step - loss: 0.0112\n",
      "Epoch 27/90\n",
      "2/2 [==============================] - 0s 18ms/step - loss: 0.0094\n",
      "Epoch 28/90\n",
      "2/2 [==============================] - 0s 18ms/step - loss: 0.0103\n",
      "Epoch 29/90\n",
      "2/2 [==============================] - 0s 31ms/step - loss: 0.0109\n",
      "Epoch 30/90\n",
      "2/2 [==============================] - 0s 29ms/step - loss: 0.0073\n",
      "Epoch 31/90\n",
      "2/2 [==============================] - 0s 24ms/step - loss: 0.0099\n",
      "Epoch 32/90\n",
      "2/2 [==============================] - 0s 19ms/step - loss: 0.0117\n",
      "Epoch 33/90\n",
      "2/2 [==============================] - 0s 25ms/step - loss: 0.0086\n",
      "Epoch 34/90\n",
      "2/2 [==============================] - 0s 31ms/step - loss: 0.0084\n",
      "Epoch 35/90\n",
      "2/2 [==============================] - 0s 29ms/step - loss: 0.0073\n",
      "Epoch 36/90\n",
      "2/2 [==============================] - 0s 17ms/step - loss: 0.0113\n",
      "Epoch 37/90\n",
      "2/2 [==============================] - 0s 17ms/step - loss: 0.0075\n",
      "Epoch 38/90\n",
      "2/2 [==============================] - 0s 16ms/step - loss: 0.0085\n",
      "Epoch 39/90\n",
      "2/2 [==============================] - 0s 22ms/step - loss: 0.0083\n",
      "Epoch 40/90\n",
      "2/2 [==============================] - 0s 22ms/step - loss: 0.0065\n",
      "Epoch 41/90\n",
      "2/2 [==============================] - 0s 16ms/step - loss: 0.0078\n",
      "Epoch 42/90\n",
      "2/2 [==============================] - 0s 17ms/step - loss: 0.0062\n",
      "Epoch 43/90\n",
      "2/2 [==============================] - 0s 30ms/step - loss: 0.0074\n",
      "Epoch 44/90\n",
      "2/2 [==============================] - 0s 30ms/step - loss: 0.0088\n",
      "Epoch 45/90\n",
      "2/2 [==============================] - 0s 22ms/step - loss: 0.0081\n",
      "Epoch 46/90\n",
      "2/2 [==============================] - 0s 29ms/step - loss: 0.0114\n",
      "Epoch 47/90\n",
      "2/2 [==============================] - 0s 32ms/step - loss: 0.0069\n",
      "Epoch 48/90\n",
      "2/2 [==============================] - 0s 29ms/step - loss: 0.0076\n",
      "Epoch 49/90\n",
      "2/2 [==============================] - 0s 20ms/step - loss: 0.0047\n",
      "Epoch 50/90\n",
      "2/2 [==============================] - 0s 16ms/step - loss: 0.0062\n",
      "Epoch 51/90\n",
      "2/2 [==============================] - 0s 31ms/step - loss: 0.0054\n",
      "Epoch 52/90\n",
      "2/2 [==============================] - 0s 32ms/step - loss: 0.0079\n",
      "Epoch 53/90\n",
      "2/2 [==============================] - 0s 27ms/step - loss: 0.0135\n",
      "Epoch 54/90\n",
      "2/2 [==============================] - 0s 20ms/step - loss: 0.0100\n",
      "Epoch 55/90\n",
      "2/2 [==============================] - 0s 20ms/step - loss: 0.0071\n",
      "Epoch 56/90\n",
      "2/2 [==============================] - 0s 18ms/step - loss: 0.0038\n",
      "Epoch 57/90\n",
      "2/2 [==============================] - 0s 16ms/step - loss: 0.0181\n",
      "Epoch 58/90\n",
      "2/2 [==============================] - 0s 16ms/step - loss: 0.0078\n",
      "Epoch 59/90\n",
      "2/2 [==============================] - 0s 18ms/step - loss: 0.0117\n",
      "Epoch 60/90\n",
      "2/2 [==============================] - 0s 18ms/step - loss: 0.0077\n",
      "Epoch 61/90\n",
      "2/2 [==============================] - 0s 17ms/step - loss: 0.0065\n",
      "Epoch 62/90\n",
      "2/2 [==============================] - 0s 23ms/step - loss: 0.0184\n",
      "Epoch 63/90\n",
      "2/2 [==============================] - 0s 23ms/step - loss: 0.0079\n",
      "Epoch 64/90\n",
      "2/2 [==============================] - 0s 27ms/step - loss: 0.0094\n",
      "Epoch 65/90\n",
      "2/2 [==============================] - 0s 17ms/step - loss: 0.0047\n",
      "Epoch 66/90\n",
      "2/2 [==============================] - 0s 18ms/step - loss: 0.0070\n",
      "Epoch 67/90\n",
      "2/2 [==============================] - 0s 27ms/step - loss: 0.0085\n",
      "Epoch 68/90\n",
      "2/2 [==============================] - 0s 26ms/step - loss: 0.0059\n",
      "Epoch 69/90\n",
      "2/2 [==============================] - 0s 24ms/step - loss: 0.0145\n",
      "Epoch 70/90\n",
      "2/2 [==============================] - 0s 17ms/step - loss: 0.0109\n",
      "Epoch 71/90\n",
      "2/2 [==============================] - 0s 16ms/step - loss: 0.0098\n",
      "Epoch 72/90\n",
      "2/2 [==============================] - 0s 30ms/step - loss: 0.0035\n",
      "Epoch 73/90\n",
      "2/2 [==============================] - 0s 33ms/step - loss: 0.0140\n",
      "Epoch 74/90\n",
      "2/2 [==============================] - 0s 24ms/step - loss: 0.0047\n",
      "Epoch 75/90\n",
      "2/2 [==============================] - 0s 24ms/step - loss: 0.0206\n",
      "Epoch 76/90\n",
      "2/2 [==============================] - 0s 17ms/step - loss: 0.0091\n",
      "Epoch 77/90\n",
      "2/2 [==============================] - 0s 15ms/step - loss: 0.0058\n",
      "Epoch 78/90\n",
      "2/2 [==============================] - 0s 21ms/step - loss: 0.0105\n",
      "Epoch 79/90\n",
      "2/2 [==============================] - 0s 29ms/step - loss: 0.0060\n",
      "Epoch 80/90\n",
      "2/2 [==============================] - 0s 15ms/step - loss: 0.0064\n",
      "Epoch 81/90\n",
      "2/2 [==============================] - 0s 18ms/step - loss: 0.0069\n",
      "Epoch 82/90\n",
      "2/2 [==============================] - 0s 18ms/step - loss: 0.0028\n",
      "Epoch 83/90\n",
      "2/2 [==============================] - 0s 15ms/step - loss: 0.0064\n",
      "Epoch 84/90\n",
      "2/2 [==============================] - 0s 21ms/step - loss: 0.0035\n",
      "Epoch 85/90\n",
      "2/2 [==============================] - 0s 15ms/step - loss: 0.0041\n",
      "Epoch 86/90\n",
      "2/2 [==============================] - 0s 21ms/step - loss: 0.0052\n",
      "Epoch 87/90\n",
      "2/2 [==============================] - 0s 20ms/step - loss: 0.0051\n",
      "Epoch 88/90\n",
      "2/2 [==============================] - 0s 21ms/step - loss: 0.0048\n",
      "Epoch 89/90\n",
      "2/2 [==============================] - 0s 15ms/step - loss: 0.0139\n",
      "Epoch 90/90\n",
      "2/2 [==============================] - 0s 17ms/step - loss: 0.0065\n"
     ]
    },
    {
     "data": {
      "text/plain": [
       "<keras.callbacks.callbacks.History at 0x20ac08e6608>"
      ]
     },
     "execution_count": 151,
     "metadata": {},
     "output_type": "execute_result"
    }
   ],
   "source": [
    "model.fit_generator(generator,epochs=90)"
   ]
  },
  {
   "cell_type": "code",
   "execution_count": 152,
   "metadata": {},
   "outputs": [],
   "source": [
    "pred_list = []\n",
    "\n",
    "batch = train[-n_input:].reshape((1, n_input, n_features))\n",
    "\n",
    "for i in range(n_input):   \n",
    "    pred_list.append(model.predict(batch)[0]) \n",
    "    batch = np.append(batch[:,1:,:],[[pred_list[i]]],axis=1)"
   ]
  },
  {
   "cell_type": "code",
   "execution_count": 153,
   "metadata": {},
   "outputs": [],
   "source": [
    "from pandas.tseries.offsets import DateOffset\n",
    "add_dates = [df.index[-1] + DateOffset(months=x) for x in range(0,13) ]\n",
    "future_dates = pd.DataFrame(index=add_dates[1:],columns=df.columns)"
   ]
  },
  {
   "cell_type": "code",
   "execution_count": 154,
   "metadata": {},
   "outputs": [],
   "source": [
    "df_predict = pd.DataFrame(scaler.inverse_transform(pred_list),\n",
    "                          index=future_dates[-n_input:].index, columns=['Prediction'])\n",
    "\n",
    "df_proj = pd.concat([df,df_predict], axis=1)"
   ]
  },
  {
   "cell_type": "code",
   "execution_count": 155,
   "metadata": {},
   "outputs": [
    {
     "name": "stderr",
     "output_type": "stream",
     "text": [
      "No handles with labels found to put in legend.\n"
     ]
    },
    {
     "data": {
      "image/png": "[encoded data removed]",
      "text/plain": [
       "<Figure size 1440x360 with 1 Axes>"
      ]
     },
     "metadata": {
      "needs_background": "light"
     },
     "output_type": "display_data"
    }
   ],
   "source": [
    "plt.figure(figsize=(20, 5))\n",
    "plt.plot(df_proj.index, df_proj['Temp'])\n",
    "plt.plot(df_proj.index, df_proj['Prediction'], color='r')\n",
    "plt.legend(loc='best', fontsize='xx-large')\n",
    "plt.xticks(fontsize=18)\n",
    "plt.yticks(fontsize=16)\n",
    "plt.show()"
   ]
  },
  {
   "cell_type": "code",
   "execution_count": 158,
   "metadata": {},
   "outputs": [
    {
     "data": {
      "text/html": [
       "<div>\n",
       "<style scoped>\n",
       "    .dataframe tbody tr th:only-of-type {\n",
       "        vertical-align: middle;\n",
       "    }\n",
       "\n",
       "    .dataframe tbody tr th {\n",
       "        vertical-align: top;\n",
       "    }\n",
       "\n",
       "    .dataframe thead th {\n",
       "        text-align: right;\n",
       "    }\n",
       "</style>\n",
       "<table border=\"1\" class=\"dataframe\">\n",
       "  <thead>\n",
       "    <tr style=\"text-align: right;\">\n",
       "      <th></th>\n",
       "      <th>Temp</th>\n",
       "      <th>Prediction</th>\n",
       "    </tr>\n",
       "  </thead>\n",
       "  <tbody>\n",
       "    <tr>\n",
       "      <td>2015-08-01</td>\n",
       "      <td>NaN</td>\n",
       "      <td>19.958310</td>\n",
       "    </tr>\n",
       "    <tr>\n",
       "      <td>2015-09-01</td>\n",
       "      <td>NaN</td>\n",
       "      <td>20.641960</td>\n",
       "    </tr>\n",
       "    <tr>\n",
       "      <td>2015-10-01</td>\n",
       "      <td>NaN</td>\n",
       "      <td>21.462323</td>\n",
       "    </tr>\n",
       "    <tr>\n",
       "      <td>2015-11-01</td>\n",
       "      <td>NaN</td>\n",
       "      <td>22.297922</td>\n",
       "    </tr>\n",
       "    <tr>\n",
       "      <td>2015-12-01</td>\n",
       "      <td>NaN</td>\n",
       "      <td>22.913508</td>\n",
       "    </tr>\n",
       "  </tbody>\n",
       "</table>\n",
       "</div>"
      ],
      "text/plain": [
       "            Temp  Prediction\n",
       "2015-08-01   NaN   19.958310\n",
       "2015-09-01   NaN   20.641960\n",
       "2015-10-01   NaN   21.462323\n",
       "2015-11-01   NaN   22.297922\n",
       "2015-12-01   NaN   22.913508"
      ]
     },
     "execution_count": 158,
     "metadata": {},
     "output_type": "execute_result"
    }
   ],
   "source": [
    "df_proj.tail()"
   ]
  },
  {
   "cell_type": "code",
   "execution_count": null,
   "metadata": {},
   "outputs": [],
   "source": []
  }
 ],
 "metadata": {
  "kernelspec": {
   "display_name": "Python 3",
   "language": "python",
   "name": "python3"
  },
  "language_info": {
   "codemirror_mode": {
    "name": "ipython",
    "version": 3
   },
   "file_extension": ".py",
   "mimetype": "text/x-python",
   "name": "python",
   "nbconvert_exporter": "python",
   "pygments_lexer": "ipython3",
   "version": "3.7.4"
  }
 },
 "nbformat": 4,
 "nbformat_minor": 2
}
