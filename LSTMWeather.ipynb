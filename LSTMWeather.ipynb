{
 "cells": [
  {
   "cell_type": "code",
   "execution_count": 80,
   "metadata": {},
   "outputs": [],
   "source": [
    "import numpy\n",
    "import matplotlib.pyplot as plt\n",
    "import pandas\n",
    "import math\n",
    "from keras.models import Sequential\n",
    "from keras.layers import Dense\n",
    "from keras.layers import LSTM\n",
    "from keras.preprocessing.sequence import TimeseriesGenerator\n",
    "from sklearn.preprocessing import MinMaxScaler\n",
    "from sklearn.metrics import mean_squared_error\n",
    "\n",
    "# fix random seed for reproducibility\n",
    "numpy.random.seed(7)\n",
    "\n",
    "\n",
    "\n",
    "# load the dataset\n",
    "dataframe = pandas.read_csv('D:\\SourceFiles/carrotPop.csv', usecols=[1], engine='python')\n",
    "dataset = dataframe.values\n",
    "dataset = dataset.astype('float32')"
   ]
  },
  {
   "cell_type": "code",
   "execution_count": null,
   "metadata": {},
   "outputs": [],
   "source": []
  },
  {
   "cell_type": "code",
   "execution_count": 81,
   "metadata": {},
   "outputs": [],
   "source": [
    "# normalize the dataset\n",
    "scaler = MinMaxScaler(feature_range=(0, 1))\n",
    "dataset = scaler.fit_transform(dataset)"
   ]
  },
  {
   "cell_type": "code",
   "execution_count": 82,
   "metadata": {},
   "outputs": [
    {
     "name": "stdout",
     "output_type": "stream",
     "text": [
      "32 17\n"
     ]
    }
   ],
   "source": [
    "# split into train and test sets\n",
    "train_size = int(len(dataset) * 0.67)\n",
    "test_size = len(dataset) - train_size\n",
    "train, test = dataset[0:train_size,:], dataset[train_size:len(dataset),:]\n",
    "print(len(train), len(test))"
   ]
  },
  {
   "cell_type": "code",
   "execution_count": 83,
   "metadata": {},
   "outputs": [],
   "source": [
    "# convert an array of values into a dataset matrix\n",
    "def create_dataset(dataset, look_back=1):\n",
    "\tdataX, dataY = [], []\n",
    "\tfor i in range(len(dataset)-look_back-1):\n",
    "\t\ta = dataset[i:(i+look_back), 0]\n",
    "\t\tdataX.append(a)\n",
    "\t\tdataY.append(dataset[i + look_back, 0])\n",
    "\treturn numpy.array(dataX), numpy.array(dataY)"
   ]
  },
  {
   "cell_type": "code",
   "execution_count": 84,
   "metadata": {},
   "outputs": [],
   "source": [
    "# reshape into X=t and Y=t+1\n",
    "look_back = 1\n",
    "trainX, trainY = create_dataset(train, look_back)\n",
    "testX, testY = create_dataset(test, look_back)"
   ]
  },
  {
   "cell_type": "code",
   "execution_count": 85,
   "metadata": {},
   "outputs": [],
   "source": [
    "# reshape input to be [samples, time steps, features]\n",
    "trainX = numpy.reshape(trainX, (trainX.shape[0], 1, trainX.shape[1]))\n",
    "testX = numpy.reshape(testX, (testX.shape[0], 1, testX.shape[1]))"
   ]
  },
  {
   "cell_type": "code",
   "execution_count": 86,
   "metadata": {},
   "outputs": [
    {
     "name": "stdout",
     "output_type": "stream",
     "text": [
      "Epoch 1/100\n",
      " - 1s - loss: 0.0419\n",
      "Epoch 2/100\n",
      " - 0s - loss: 0.0315\n",
      "Epoch 3/100\n",
      " - 0s - loss: 0.0241\n",
      "Epoch 4/100\n",
      " - 0s - loss: 0.0199\n",
      "Epoch 5/100\n",
      " - 0s - loss: 0.0168\n",
      "Epoch 6/100\n",
      " - 0s - loss: 0.0152\n",
      "Epoch 7/100\n",
      " - 0s - loss: 0.0144\n",
      "Epoch 8/100\n",
      " - 0s - loss: 0.0137\n",
      "Epoch 9/100\n",
      " - 0s - loss: 0.0133\n",
      "Epoch 10/100\n",
      " - 0s - loss: 0.0131\n",
      "Epoch 11/100\n",
      " - 0s - loss: 0.0128\n",
      "Epoch 12/100\n",
      " - 0s - loss: 0.0126\n",
      "Epoch 13/100\n",
      " - 0s - loss: 0.0124\n",
      "Epoch 14/100\n",
      " - 0s - loss: 0.0123\n",
      "Epoch 15/100\n",
      " - 0s - loss: 0.0121\n",
      "Epoch 16/100\n",
      " - 0s - loss: 0.0119\n",
      "Epoch 17/100\n",
      " - 0s - loss: 0.0116\n",
      "Epoch 18/100\n",
      " - 0s - loss: 0.0115\n",
      "Epoch 19/100\n",
      " - 0s - loss: 0.0112\n",
      "Epoch 20/100\n",
      " - 0s - loss: 0.0110\n",
      "Epoch 21/100\n",
      " - 0s - loss: 0.0109\n",
      "Epoch 22/100\n",
      " - 0s - loss: 0.0107\n",
      "Epoch 23/100\n",
      " - 0s - loss: 0.0104\n",
      "Epoch 24/100\n",
      " - 0s - loss: 0.0102\n",
      "Epoch 25/100\n",
      " - 0s - loss: 0.0101\n",
      "Epoch 26/100\n",
      " - 0s - loss: 0.0098\n",
      "Epoch 27/100\n",
      " - 0s - loss: 0.0096\n",
      "Epoch 28/100\n",
      " - 0s - loss: 0.0094\n",
      "Epoch 29/100\n",
      " - 0s - loss: 0.0092\n",
      "Epoch 30/100\n",
      " - 0s - loss: 0.0089\n",
      "Epoch 31/100\n",
      " - 0s - loss: 0.0087\n",
      "Epoch 32/100\n",
      " - 0s - loss: 0.0084\n",
      "Epoch 33/100\n",
      " - 0s - loss: 0.0083\n",
      "Epoch 34/100\n",
      " - 0s - loss: 0.0079\n",
      "Epoch 35/100\n",
      " - 0s - loss: 0.0077\n",
      "Epoch 36/100\n",
      " - 0s - loss: 0.0075\n",
      "Epoch 37/100\n",
      " - 0s - loss: 0.0074\n",
      "Epoch 38/100\n",
      " - 0s - loss: 0.0071\n",
      "Epoch 39/100\n",
      " - 0s - loss: 0.0068\n",
      "Epoch 40/100\n",
      " - 0s - loss: 0.0066\n",
      "Epoch 41/100\n",
      " - 0s - loss: 0.0064\n",
      "Epoch 42/100\n",
      " - 0s - loss: 0.0061\n",
      "Epoch 43/100\n",
      " - 0s - loss: 0.0059\n",
      "Epoch 44/100\n",
      " - 0s - loss: 0.0056\n",
      "Epoch 45/100\n",
      " - 0s - loss: 0.0054\n",
      "Epoch 46/100\n",
      " - 0s - loss: 0.0052\n",
      "Epoch 47/100\n",
      " - 0s - loss: 0.0051\n",
      "Epoch 48/100\n",
      " - 0s - loss: 0.0048\n",
      "Epoch 49/100\n",
      " - 0s - loss: 0.0046\n",
      "Epoch 50/100\n",
      " - 0s - loss: 0.0045\n",
      "Epoch 51/100\n",
      " - 0s - loss: 0.0043\n",
      "Epoch 52/100\n",
      " - 0s - loss: 0.0040\n",
      "Epoch 53/100\n",
      " - 0s - loss: 0.0039\n",
      "Epoch 54/100\n",
      " - 0s - loss: 0.0038\n",
      "Epoch 55/100\n",
      " - 0s - loss: 0.0036\n",
      "Epoch 56/100\n",
      " - 0s - loss: 0.0034\n",
      "Epoch 57/100\n",
      " - 0s - loss: 0.0034\n",
      "Epoch 58/100\n",
      " - 0s - loss: 0.0032\n",
      "Epoch 59/100\n",
      " - 0s - loss: 0.0031\n",
      "Epoch 60/100\n",
      " - 0s - loss: 0.0030\n",
      "Epoch 61/100\n",
      " - 0s - loss: 0.0029\n",
      "Epoch 62/100\n",
      " - 0s - loss: 0.0028\n",
      "Epoch 63/100\n",
      " - 0s - loss: 0.0027\n",
      "Epoch 64/100\n",
      " - 0s - loss: 0.0026\n",
      "Epoch 65/100\n",
      " - 0s - loss: 0.0026\n",
      "Epoch 66/100\n",
      " - 0s - loss: 0.0026\n",
      "Epoch 67/100\n",
      " - 0s - loss: 0.0025\n",
      "Epoch 68/100\n",
      " - 0s - loss: 0.0025\n",
      "Epoch 69/100\n",
      " - 0s - loss: 0.0024\n",
      "Epoch 70/100\n",
      " - 0s - loss: 0.0024\n",
      "Epoch 71/100\n",
      " - 0s - loss: 0.0023\n",
      "Epoch 72/100\n",
      " - 0s - loss: 0.0024\n",
      "Epoch 73/100\n",
      " - 0s - loss: 0.0023\n",
      "Epoch 74/100\n",
      " - 0s - loss: 0.0023\n",
      "Epoch 75/100\n",
      " - 0s - loss: 0.0023\n",
      "Epoch 76/100\n",
      " - 0s - loss: 0.0023\n",
      "Epoch 77/100\n",
      " - 0s - loss: 0.0023\n",
      "Epoch 78/100\n",
      " - 0s - loss: 0.0024\n",
      "Epoch 79/100\n",
      " - 0s - loss: 0.0022\n",
      "Epoch 80/100\n",
      " - 0s - loss: 0.0023\n",
      "Epoch 81/100\n",
      " - 0s - loss: 0.0023\n",
      "Epoch 82/100\n",
      " - 0s - loss: 0.0022\n",
      "Epoch 83/100\n",
      " - 0s - loss: 0.0022\n",
      "Epoch 84/100\n",
      " - 0s - loss: 0.0022\n",
      "Epoch 85/100\n",
      " - 0s - loss: 0.0022\n",
      "Epoch 86/100\n",
      " - 0s - loss: 0.0022\n",
      "Epoch 87/100\n",
      " - 0s - loss: 0.0022\n",
      "Epoch 88/100\n",
      " - 0s - loss: 0.0022\n",
      "Epoch 89/100\n",
      " - 0s - loss: 0.0022\n",
      "Epoch 90/100\n",
      " - 0s - loss: 0.0022\n",
      "Epoch 91/100\n",
      " - 0s - loss: 0.0022\n",
      "Epoch 92/100\n",
      " - 0s - loss: 0.0022\n",
      "Epoch 93/100\n",
      " - 0s - loss: 0.0022\n",
      "Epoch 94/100\n",
      " - 0s - loss: 0.0022\n",
      "Epoch 95/100\n",
      " - 0s - loss: 0.0024\n",
      "Epoch 96/100\n",
      " - 0s - loss: 0.0022\n",
      "Epoch 97/100\n",
      " - 0s - loss: 0.0022\n",
      "Epoch 98/100\n",
      " - 0s - loss: 0.0022\n",
      "Epoch 99/100\n",
      " - 0s - loss: 0.0023\n",
      "Epoch 100/100\n",
      " - 0s - loss: 0.0022\n"
     ]
    },
    {
     "data": {
      "text/plain": [
       "<keras.callbacks.callbacks.History at 0x1ded21e0c48>"
      ]
     },
     "execution_count": 86,
     "metadata": {},
     "output_type": "execute_result"
    }
   ],
   "source": [
    "# create and fit the LSTM network\n",
    "model = Sequential()\n",
    "model.add(LSTM(4, input_shape=(1, look_back)))\n",
    "model.add(Dense(1))\n",
    "model.compile(loss='mean_squared_error', optimizer='adam')\n",
    "model.fit(trainX, trainY, epochs=100, batch_size=1, verbose=2)"
   ]
  },
  {
   "cell_type": "code",
   "execution_count": 87,
   "metadata": {},
   "outputs": [
    {
     "name": "stdout",
     "output_type": "stream",
     "text": [
      "Train Score: 20.80 RMSE\n",
      "Test Score: 53.70 RMSE\n"
     ]
    }
   ],
   "source": [
    "# make predictions\n",
    "trainPredict = model.predict(trainX)\n",
    "testPredict = model.predict(testX)\n",
    "# invert predictions\n",
    "trainPredict = scaler.inverse_transform(trainPredict)\n",
    "trainY = scaler.inverse_transform([trainY])\n",
    "testPredict = scaler.inverse_transform(testPredict)\n",
    "testY = scaler.inverse_transform([testY])\n",
    "# calculate root mean squared error\n",
    "trainScore = math.sqrt(mean_squared_error(trainY[0], trainPredict[:,0]))\n",
    "print('Train Score: %.2f RMSE' % (trainScore))\n",
    "testScore = math.sqrt(mean_squared_error(testY[0], testPredict[:,0]))\n",
    "print('Test Score: %.2f RMSE' % (testScore))"
   ]
  },
  {
   "cell_type": "code",
   "execution_count": 88,
   "metadata": {},
   "outputs": [
    {
     "data": {
      "image/png": "[encoded data removed]",
      "text/plain": [
       "<Figure size 432x288 with 1 Axes>"
      ]
     },
     "metadata": {
      "needs_background": "light"
     },
     "output_type": "display_data"
    }
   ],
   "source": [
    "# shift train predictions for plotting\n",
    "trainPredictPlot = numpy.empty_like(dataset)\n",
    "trainPredictPlot[:, :] = numpy.nan\n",
    "trainPredictPlot[look_back:len(trainPredict)+look_back, :] = trainPredict\n",
    "# shift test predictions for plotting\n",
    "testPredictPlot = numpy.empty_like(dataset)\n",
    "testPredictPlot[:, :] = numpy.nan\n",
    "testPredictPlot[len(trainPredict)+(look_back*2)+1:len(dataset)-1, :] = testPredict\n",
    "# plot baseline and predictions\n",
    "plt.plot(scaler.inverse_transform(dataset))\n",
    "plt.plot(trainPredictPlot)\n",
    "plt.plot(testPredictPlot)\n",
    "plt.show()"
   ]
  },
  {
   "cell_type": "code",
   "execution_count": 92,
   "metadata": {},
   "outputs": [],
   "source": [
    "n_input = 12\n",
    "n_features = 1\n",
    "generator = TimeseriesGenerator(train, train, length=n_input, batch_size=12)"
   ]
  },
  {
   "cell_type": "code",
   "execution_count": 93,
   "metadata": {},
   "outputs": [
    {
     "ename": "ValueError",
     "evalue": "Error when checking input: expected lstm_7_input to have shape (1, 1) but got array with shape (12, 1)",
     "output_type": "error",
     "traceback": [
      "\u001b[1;31m---------------------------------------------------------------------------\u001b[0m",
      "\u001b[1;31mValueError\u001b[0m                                Traceback (most recent call last)",
      "\u001b[1;32m<ipython-input-93-f018a2b3a8ad>\u001b[0m in \u001b[0;36m<module>\u001b[1;34m\u001b[0m\n\u001b[0;32m      4\u001b[0m \u001b[1;33m\u001b[0m\u001b[0m\n\u001b[0;32m      5\u001b[0m \u001b[1;32mfor\u001b[0m \u001b[0mi\u001b[0m \u001b[1;32min\u001b[0m \u001b[0mrange\u001b[0m\u001b[1;33m(\u001b[0m\u001b[0mn_input\u001b[0m\u001b[1;33m)\u001b[0m\u001b[1;33m:\u001b[0m\u001b[1;33m\u001b[0m\u001b[1;33m\u001b[0m\u001b[0m\n\u001b[1;32m----> 6\u001b[1;33m     \u001b[0mpred_list\u001b[0m\u001b[1;33m.\u001b[0m\u001b[0mappend\u001b[0m\u001b[1;33m(\u001b[0m\u001b[0mmodel\u001b[0m\u001b[1;33m.\u001b[0m\u001b[0mpredict\u001b[0m\u001b[1;33m(\u001b[0m\u001b[0mbatch\u001b[0m\u001b[1;33m)\u001b[0m\u001b[1;33m[\u001b[0m\u001b[1;36m0\u001b[0m\u001b[1;33m]\u001b[0m\u001b[1;33m)\u001b[0m\u001b[1;33m\u001b[0m\u001b[1;33m\u001b[0m\u001b[0m\n\u001b[0m\u001b[0;32m      7\u001b[0m     \u001b[0mbatch\u001b[0m \u001b[1;33m=\u001b[0m \u001b[0mnp\u001b[0m\u001b[1;33m.\u001b[0m\u001b[0mappend\u001b[0m\u001b[1;33m(\u001b[0m\u001b[0mbatch\u001b[0m\u001b[1;33m[\u001b[0m\u001b[1;33m:\u001b[0m\u001b[1;33m,\u001b[0m\u001b[1;36m1\u001b[0m\u001b[1;33m:\u001b[0m\u001b[1;33m,\u001b[0m\u001b[1;33m:\u001b[0m\u001b[1;33m]\u001b[0m\u001b[1;33m,\u001b[0m\u001b[1;33m[\u001b[0m\u001b[1;33m[\u001b[0m\u001b[0mpred_list\u001b[0m\u001b[1;33m[\u001b[0m\u001b[0mi\u001b[0m\u001b[1;33m]\u001b[0m\u001b[1;33m]\u001b[0m\u001b[1;33m]\u001b[0m\u001b[1;33m,\u001b[0m\u001b[0maxis\u001b[0m\u001b[1;33m=\u001b[0m\u001b[1;36m1\u001b[0m\u001b[1;33m)\u001b[0m\u001b[1;33m\u001b[0m\u001b[1;33m\u001b[0m\u001b[0m\n",
      "\u001b[1;32m~\\Anaconda3\\lib\\site-packages\\keras\\engine\\training.py\u001b[0m in \u001b[0;36mpredict\u001b[1;34m(self, x, batch_size, verbose, steps, callbacks, max_queue_size, workers, use_multiprocessing)\u001b[0m\n\u001b[0;32m   1439\u001b[0m \u001b[1;33m\u001b[0m\u001b[0m\n\u001b[0;32m   1440\u001b[0m         \u001b[1;31m# Case 2: Symbolic tensors or Numpy array-like.\u001b[0m\u001b[1;33m\u001b[0m\u001b[1;33m\u001b[0m\u001b[1;33m\u001b[0m\u001b[0m\n\u001b[1;32m-> 1441\u001b[1;33m         \u001b[0mx\u001b[0m\u001b[1;33m,\u001b[0m \u001b[0m_\u001b[0m\u001b[1;33m,\u001b[0m \u001b[0m_\u001b[0m \u001b[1;33m=\u001b[0m \u001b[0mself\u001b[0m\u001b[1;33m.\u001b[0m\u001b[0m_standardize_user_data\u001b[0m\u001b[1;33m(\u001b[0m\u001b[0mx\u001b[0m\u001b[1;33m)\u001b[0m\u001b[1;33m\u001b[0m\u001b[1;33m\u001b[0m\u001b[0m\n\u001b[0m\u001b[0;32m   1442\u001b[0m         \u001b[1;32mif\u001b[0m \u001b[0mself\u001b[0m\u001b[1;33m.\u001b[0m\u001b[0mstateful\u001b[0m\u001b[1;33m:\u001b[0m\u001b[1;33m\u001b[0m\u001b[1;33m\u001b[0m\u001b[0m\n\u001b[0;32m   1443\u001b[0m             \u001b[1;32mif\u001b[0m \u001b[0mx\u001b[0m\u001b[1;33m[\u001b[0m\u001b[1;36m0\u001b[0m\u001b[1;33m]\u001b[0m\u001b[1;33m.\u001b[0m\u001b[0mshape\u001b[0m\u001b[1;33m[\u001b[0m\u001b[1;36m0\u001b[0m\u001b[1;33m]\u001b[0m \u001b[1;33m>\u001b[0m \u001b[0mbatch_size\u001b[0m \u001b[1;32mand\u001b[0m \u001b[0mx\u001b[0m\u001b[1;33m[\u001b[0m\u001b[1;36m0\u001b[0m\u001b[1;33m]\u001b[0m\u001b[1;33m.\u001b[0m\u001b[0mshape\u001b[0m\u001b[1;33m[\u001b[0m\u001b[1;36m0\u001b[0m\u001b[1;33m]\u001b[0m \u001b[1;33m%\u001b[0m \u001b[0mbatch_size\u001b[0m \u001b[1;33m!=\u001b[0m \u001b[1;36m0\u001b[0m\u001b[1;33m:\u001b[0m\u001b[1;33m\u001b[0m\u001b[1;33m\u001b[0m\u001b[0m\n",
      "\u001b[1;32m~\\Anaconda3\\lib\\site-packages\\keras\\engine\\training.py\u001b[0m in \u001b[0;36m_standardize_user_data\u001b[1;34m(self, x, y, sample_weight, class_weight, check_array_lengths, batch_size)\u001b[0m\n\u001b[0;32m    577\u001b[0m             \u001b[0mfeed_input_shapes\u001b[0m\u001b[1;33m,\u001b[0m\u001b[1;33m\u001b[0m\u001b[1;33m\u001b[0m\u001b[0m\n\u001b[0;32m    578\u001b[0m             \u001b[0mcheck_batch_axis\u001b[0m\u001b[1;33m=\u001b[0m\u001b[1;32mFalse\u001b[0m\u001b[1;33m,\u001b[0m  \u001b[1;31m# Don't enforce the batch size.\u001b[0m\u001b[1;33m\u001b[0m\u001b[1;33m\u001b[0m\u001b[0m\n\u001b[1;32m--> 579\u001b[1;33m             exception_prefix='input')\n\u001b[0m\u001b[0;32m    580\u001b[0m \u001b[1;33m\u001b[0m\u001b[0m\n\u001b[0;32m    581\u001b[0m         \u001b[1;32mif\u001b[0m \u001b[0my\u001b[0m \u001b[1;32mis\u001b[0m \u001b[1;32mnot\u001b[0m \u001b[1;32mNone\u001b[0m\u001b[1;33m:\u001b[0m\u001b[1;33m\u001b[0m\u001b[1;33m\u001b[0m\u001b[0m\n",
      "\u001b[1;32m~\\Anaconda3\\lib\\site-packages\\keras\\engine\\training_utils.py\u001b[0m in \u001b[0;36mstandardize_input_data\u001b[1;34m(data, names, shapes, check_batch_axis, exception_prefix)\u001b[0m\n\u001b[0;32m    143\u001b[0m                             \u001b[1;34m': expected '\u001b[0m \u001b[1;33m+\u001b[0m \u001b[0mnames\u001b[0m\u001b[1;33m[\u001b[0m\u001b[0mi\u001b[0m\u001b[1;33m]\u001b[0m \u001b[1;33m+\u001b[0m \u001b[1;34m' to have shape '\u001b[0m \u001b[1;33m+\u001b[0m\u001b[1;33m\u001b[0m\u001b[1;33m\u001b[0m\u001b[0m\n\u001b[0;32m    144\u001b[0m                             \u001b[0mstr\u001b[0m\u001b[1;33m(\u001b[0m\u001b[0mshape\u001b[0m\u001b[1;33m)\u001b[0m \u001b[1;33m+\u001b[0m \u001b[1;34m' but got array with shape '\u001b[0m \u001b[1;33m+\u001b[0m\u001b[1;33m\u001b[0m\u001b[1;33m\u001b[0m\u001b[0m\n\u001b[1;32m--> 145\u001b[1;33m                             str(data_shape))\n\u001b[0m\u001b[0;32m    146\u001b[0m     \u001b[1;32mreturn\u001b[0m \u001b[0mdata\u001b[0m\u001b[1;33m\u001b[0m\u001b[1;33m\u001b[0m\u001b[0m\n\u001b[0;32m    147\u001b[0m \u001b[1;33m\u001b[0m\u001b[0m\n",
      "\u001b[1;31mValueError\u001b[0m: Error when checking input: expected lstm_7_input to have shape (1, 1) but got array with shape (12, 1)"
     ]
    }
   ],
   "source": [
    "pred_list = []\n",
    "\n",
    "batch = train[-n_input:].reshape((1, n_input, n_features))\n",
    "\n",
    "for i in range(n_input):   \n",
    "    pred_list.append(model.predict(batch)[0]) \n",
    "    batch = np.append(batch[:,1:,:],[[pred_list[i]]],axis=1)"
   ]
  },
  {
   "cell_type": "code",
   "execution_count": null,
   "metadata": {},
   "outputs": [],
   "source": []
  }
 ],
 "metadata": {
  "kernelspec": {
   "display_name": "Python 3",
   "language": "python",
   "name": "python3"
  },
  "language_info": {
   "codemirror_mode": {
    "name": "ipython",
    "version": 3
   },
   "file_extension": ".py",
   "mimetype": "text/x-python",
   "name": "python",
   "nbconvert_exporter": "python",
   "pygments_lexer": "ipython3",
   "version": "3.7.4"
  }
 },
 "nbformat": 4,
 "nbformat_minor": 2
}
