{
 "cells": [
  {
   "cell_type": "code",
   "execution_count": 24,
   "metadata": {},
   "outputs": [],
   "source": [
    "import numpy as np\n",
    "import pandas as pd\n",
    "from pandas import datetime\n",
    "import matplotlib.pyplot as plt\n",
    "%matplotlib inline\n",
    "from statsmodels.tools.eval_measures import rmse\n",
    "from sklearn.preprocessing import MinMaxScaler\n",
    "from keras.preprocessing.sequence import TimeseriesGenerator\n",
    "from keras.models import Sequential\n",
    "from keras.layers import Dense\n",
    "from keras.layers import LSTM\n",
    "from keras.layers import Dropout\n",
    "import warnings\n",
    "warnings.filterwarnings(\"ignore\")\n",
    "\n",
    "def parser(x):\n",
    "    return datetime.strptime(x,'%Y')\n",
    "\n",
    "df = pd.read_csv('D:\\SourceFiles/carrotPop.csv',parse_dates=[0],date_parser=parser)"
   ]
  },
  {
   "cell_type": "code",
   "execution_count": 25,
   "metadata": {},
   "outputs": [],
   "source": [
    "df = df.set_index('Year ')"
   ]
  },
  {
   "cell_type": "code",
   "execution_count": 26,
   "metadata": {},
   "outputs": [],
   "source": [
    "train, test = df[:40], df[40:]"
   ]
  },
  {
   "cell_type": "code",
   "execution_count": 27,
   "metadata": {},
   "outputs": [],
   "source": [
    "scaler = MinMaxScaler()\n",
    "scaler.fit(train)\n",
    "train = scaler.transform(train)\n",
    "test = scaler.transform(test)"
   ]
  },
  {
   "cell_type": "code",
   "execution_count": 28,
   "metadata": {},
   "outputs": [],
   "source": [
    "n_input = 12\n",
    "n_features = 1\n",
    "generator = TimeseriesGenerator(train, train, length=n_input, batch_size=6)"
   ]
  },
  {
   "cell_type": "code",
   "execution_count": 29,
   "metadata": {},
   "outputs": [],
   "source": [
    "model = Sequential()\n",
    "model.add(LSTM(200, activation='relu', input_shape=(n_input, n_features)))\n",
    "model.add(Dropout(0.15))\n",
    "model.add(Dense(1))\n",
    "model.compile(optimizer='adam', loss='mse')"
   ]
  },
  {
   "cell_type": "code",
   "execution_count": 30,
   "metadata": {},
   "outputs": [
    {
     "name": "stdout",
     "output_type": "stream",
     "text": [
      "Epoch 1/90\n",
      "5/5 [==============================] - 0s 89ms/step - loss: 0.2780\n",
      "Epoch 2/90\n",
      "5/5 [==============================] - 0s 14ms/step - loss: 0.1857\n",
      "Epoch 3/90\n",
      "5/5 [==============================] - ETA: 0s - loss: 0.161 - 0s 14ms/step - loss: 0.0944\n",
      "Epoch 4/90\n",
      "5/5 [==============================] - 0s 14ms/step - loss: 0.0199\n",
      "Epoch 5/90\n",
      "5/5 [==============================] - 0s 15ms/step - loss: 0.0333\n",
      "Epoch 6/90\n",
      "5/5 [==============================] - 0s 14ms/step - loss: 0.0207\n",
      "Epoch 7/90\n",
      "5/5 [==============================] - 0s 13ms/step - loss: 0.0249\n",
      "Epoch 8/90\n",
      "5/5 [==============================] - 0s 13ms/step - loss: 0.0159\n",
      "Epoch 9/90\n",
      "5/5 [==============================] - 0s 14ms/step - loss: 0.0164\n",
      "Epoch 10/90\n",
      "5/5 [==============================] - 0s 13ms/step - loss: 0.0215\n",
      "Epoch 11/90\n",
      "5/5 [==============================] - 0s 15ms/step - loss: 0.0188\n",
      "Epoch 12/90\n",
      "5/5 [==============================] - 0s 16ms/step - loss: 0.0170\n",
      "Epoch 13/90\n",
      "5/5 [==============================] - 0s 13ms/step - loss: 0.0152\n",
      "Epoch 14/90\n",
      "5/5 [==============================] - 0s 13ms/step - loss: 0.0160\n",
      "Epoch 15/90\n",
      "5/5 [==============================] - 0s 15ms/step - loss: 0.0146\n",
      "Epoch 16/90\n",
      "5/5 [==============================] - 0s 15ms/step - loss: 0.0131\n",
      "Epoch 17/90\n",
      "5/5 [==============================] - 0s 17ms/step - loss: 0.0147\n",
      "Epoch 18/90\n",
      "5/5 [==============================] - 0s 14ms/step - loss: 0.0177\n",
      "Epoch 19/90\n",
      "5/5 [==============================] - 0s 14ms/step - loss: 0.0137\n",
      "Epoch 20/90\n",
      "5/5 [==============================] - 0s 13ms/step - loss: 0.0157\n",
      "Epoch 21/90\n",
      "5/5 [==============================] - 0s 14ms/step - loss: 0.0200\n",
      "Epoch 22/90\n",
      "5/5 [==============================] - 0s 14ms/step - loss: 0.0178\n",
      "Epoch 23/90\n",
      "5/5 [==============================] - 0s 13ms/step - loss: 0.0217\n",
      "Epoch 24/90\n",
      "5/5 [==============================] - 0s 13ms/step - loss: 0.0143\n",
      "Epoch 25/90\n",
      "5/5 [==============================] - 0s 13ms/step - loss: 0.0121\n",
      "Epoch 26/90\n",
      "5/5 [==============================] - 0s 13ms/step - loss: 0.0191\n",
      "Epoch 27/90\n",
      "5/5 [==============================] - 0s 13ms/step - loss: 0.0127\n",
      "Epoch 28/90\n",
      "5/5 [==============================] - 0s 15ms/step - loss: 0.0130\n",
      "Epoch 29/90\n",
      "5/5 [==============================] - 0s 13ms/step - loss: 0.0189\n",
      "Epoch 30/90\n",
      "5/5 [==============================] - 0s 13ms/step - loss: 0.0167\n",
      "Epoch 31/90\n",
      "5/5 [==============================] - 0s 13ms/step - loss: 0.0175\n",
      "Epoch 32/90\n",
      "5/5 [==============================] - 0s 15ms/step - loss: 0.0169\n",
      "Epoch 33/90\n",
      "5/5 [==============================] - 0s 13ms/step - loss: 0.0139\n",
      "Epoch 34/90\n",
      "5/5 [==============================] - 0s 12ms/step - loss: 0.0117\n",
      "Epoch 35/90\n",
      "5/5 [==============================] - 0s 14ms/step - loss: 0.0144\n",
      "Epoch 36/90\n",
      "5/5 [==============================] - 0s 13ms/step - loss: 0.0138\n",
      "Epoch 37/90\n",
      "5/5 [==============================] - 0s 13ms/step - loss: 0.0130\n",
      "Epoch 38/90\n",
      "5/5 [==============================] - 0s 13ms/step - loss: 0.0142\n",
      "Epoch 39/90\n",
      "5/5 [==============================] - 0s 13ms/step - loss: 0.0170\n",
      "Epoch 40/90\n",
      "5/5 [==============================] - 0s 13ms/step - loss: 0.0136\n",
      "Epoch 41/90\n",
      "5/5 [==============================] - 0s 13ms/step - loss: 0.0187\n",
      "Epoch 42/90\n",
      "5/5 [==============================] - 0s 18ms/step - loss: 0.0122\n",
      "Epoch 43/90\n",
      "5/5 [==============================] - 0s 13ms/step - loss: 0.0160\n",
      "Epoch 44/90\n",
      "5/5 [==============================] - 0s 14ms/step - loss: 0.0162\n",
      "Epoch 45/90\n",
      "5/5 [==============================] - 0s 13ms/step - loss: 0.0150\n",
      "Epoch 46/90\n",
      "5/5 [==============================] - 0s 16ms/step - loss: 0.0145\n",
      "Epoch 47/90\n",
      "5/5 [==============================] - 0s 15ms/step - loss: 0.0121\n",
      "Epoch 48/90\n",
      "5/5 [==============================] - 0s 19ms/step - loss: 0.0147\n",
      "Epoch 49/90\n",
      "5/5 [==============================] - 0s 15ms/step - loss: 0.0124\n",
      "Epoch 50/90\n",
      "5/5 [==============================] - 0s 15ms/step - loss: 0.0134\n",
      "Epoch 51/90\n",
      "5/5 [==============================] - 0s 13ms/step - loss: 0.0098\n",
      "Epoch 52/90\n",
      "5/5 [==============================] - 0s 14ms/step - loss: 0.0105\n",
      "Epoch 53/90\n",
      "5/5 [==============================] - 0s 15ms/step - loss: 0.0120\n",
      "Epoch 54/90\n",
      "5/5 [==============================] - 0s 16ms/step - loss: 0.0157\n",
      "Epoch 55/90\n",
      "5/5 [==============================] - 0s 12ms/step - loss: 0.0155\n",
      "Epoch 56/90\n",
      "5/5 [==============================] - 0s 17ms/step - loss: 0.0170\n",
      "Epoch 57/90\n",
      "5/5 [==============================] - 0s 13ms/step - loss: 0.0145\n",
      "Epoch 58/90\n",
      "5/5 [==============================] - 0s 13ms/step - loss: 0.0174\n",
      "Epoch 59/90\n",
      "5/5 [==============================] - 0s 12ms/step - loss: 0.0140\n",
      "Epoch 60/90\n",
      "5/5 [==============================] - 0s 14ms/step - loss: 0.0122\n",
      "Epoch 61/90\n",
      "5/5 [==============================] - 0s 12ms/step - loss: 0.0114\n",
      "Epoch 62/90\n",
      "5/5 [==============================] - 0s 13ms/step - loss: 0.0106\n",
      "Epoch 63/90\n",
      "5/5 [==============================] - 0s 19ms/step - loss: 0.0138\n",
      "Epoch 64/90\n",
      "5/5 [==============================] - 0s 21ms/step - loss: 0.0115\n",
      "Epoch 65/90\n",
      "5/5 [==============================] - 0s 21ms/step - loss: 0.0094\n",
      "Epoch 66/90\n",
      "5/5 [==============================] - 0s 17ms/step - loss: 0.0094\n",
      "Epoch 67/90\n",
      "5/5 [==============================] - 0s 13ms/step - loss: 0.0085\n",
      "Epoch 68/90\n",
      "5/5 [==============================] - 0s 18ms/step - loss: 0.0135\n",
      "Epoch 69/90\n",
      "5/5 [==============================] - 0s 16ms/step - loss: 0.0113\n",
      "Epoch 70/90\n",
      "5/5 [==============================] - 0s 14ms/step - loss: 0.0090\n",
      "Epoch 71/90\n",
      "5/5 [==============================] - 0s 13ms/step - loss: 0.0113\n",
      "Epoch 72/90\n",
      "5/5 [==============================] - 0s 13ms/step - loss: 0.0113\n",
      "Epoch 73/90\n",
      "5/5 [==============================] - 0s 13ms/step - loss: 0.0118\n",
      "Epoch 74/90\n",
      "5/5 [==============================] - 0s 13ms/step - loss: 0.0091\n",
      "Epoch 75/90\n",
      "5/5 [==============================] - 0s 13ms/step - loss: 0.0117\n",
      "Epoch 76/90\n",
      "5/5 [==============================] - 0s 13ms/step - loss: 0.0133\n",
      "Epoch 77/90\n",
      "5/5 [==============================] - 0s 13ms/step - loss: 0.0129\n",
      "Epoch 78/90\n",
      "5/5 [==============================] - 0s 13ms/step - loss: 0.0106\n",
      "Epoch 79/90\n",
      "5/5 [==============================] - 0s 13ms/step - loss: 0.0098\n",
      "Epoch 80/90\n",
      "5/5 [==============================] - 0s 15ms/step - loss: 0.0149\n",
      "Epoch 81/90\n",
      "5/5 [==============================] - 0s 13ms/step - loss: 0.0089\n",
      "Epoch 82/90\n",
      "5/5 [==============================] - 0s 13ms/step - loss: 0.0165\n",
      "Epoch 83/90\n",
      "5/5 [==============================] - 0s 12ms/step - loss: 0.0231\n",
      "Epoch 84/90\n",
      "5/5 [==============================] - 0s 14ms/step - loss: 0.0131\n",
      "Epoch 85/90\n",
      "5/5 [==============================] - 0s 13ms/step - loss: 0.0156\n",
      "Epoch 86/90\n",
      "5/5 [==============================] - 0s 13ms/step - loss: 0.0122\n",
      "Epoch 87/90\n",
      "5/5 [==============================] - 0s 14ms/step - loss: 0.0271\n",
      "Epoch 88/90\n",
      "5/5 [==============================] - 0s 13ms/step - loss: 0.0216\n",
      "Epoch 89/90\n",
      "5/5 [==============================] - 0s 13ms/step - loss: 0.0115\n",
      "Epoch 90/90\n",
      "5/5 [==============================] - 0s 13ms/step - loss: 0.0116\n"
     ]
    },
    {
     "data": {
      "text/plain": [
       "<keras.callbacks.callbacks.History at 0x1d2d096f648>"
      ]
     },
     "execution_count": 30,
     "metadata": {},
     "output_type": "execute_result"
    }
   ],
   "source": [
    "model.fit_generator(generator,epochs=90)"
   ]
  },
  {
   "cell_type": "code",
   "execution_count": 31,
   "metadata": {},
   "outputs": [],
   "source": [
    "pred_list = []\n",
    "\n",
    "batch = train[-n_input:].reshape((1, n_input, n_features))\n",
    "\n",
    "for i in range(n_input):   \n",
    "    pred_list.append(model.predict(batch)[0]) \n",
    "    batch = np.append(batch[:,1:,:],[[pred_list[i]]],axis=1)"
   ]
  },
  {
   "cell_type": "code",
   "execution_count": 32,
   "metadata": {},
   "outputs": [],
   "source": [
    "df_predict = pd.DataFrame(scaler.inverse_transform(pred_list),\n",
    "                          index=df[-n_input:].index, columns=['Prediction'])\n",
    "\n",
    "df_test = pd.concat([df,df_predict], axis=1)"
   ]
  },
  {
   "cell_type": "code",
   "execution_count": 33,
   "metadata": {},
   "outputs": [
    {
     "name": "stderr",
     "output_type": "stream",
     "text": [
      "No handles with labels found to put in legend.\n"
     ]
    },
    {
     "data": {
      "image/png": "[encoded data removed]",
      "text/plain": [
       "<Figure size 1440x360 with 1 Axes>"
      ]
     },
     "metadata": {
      "needs_background": "light"
     },
     "output_type": "display_data"
    }
   ],
   "source": [
    "plt.figure(figsize=(20, 5))\n",
    "plt.plot(df_test.index, df_test['Imports2'])\n",
    "plt.plot(df_test.index, df_test['Prediction'], color='r')\n",
    "plt.legend(loc='best', fontsize='xx-large')\n",
    "plt.xticks(fontsize=18)\n",
    "plt.yticks(fontsize=16)\n",
    "plt.show()"
   ]
  },
  {
   "cell_type": "code",
   "execution_count": 34,
   "metadata": {},
   "outputs": [
    {
     "name": "stdout",
     "output_type": "stream",
     "text": [
      "rmse:  [46.44925957]\n"
     ]
    }
   ],
   "source": [
    "pred_actual_rmse = rmse(df_test.iloc[-n_input:, [0]], df_test.iloc[-n_input:, [1]])\n",
    "print(\"rmse: \", pred_actual_rmse)"
   ]
  },
  {
   "cell_type": "code",
   "execution_count": 35,
   "metadata": {},
   "outputs": [],
   "source": [
    "train = df"
   ]
  },
  {
   "cell_type": "code",
   "execution_count": 36,
   "metadata": {},
   "outputs": [],
   "source": [
    "scaler.fit(train)\n",
    "train = scaler.transform(train)"
   ]
  },
  {
   "cell_type": "code",
   "execution_count": 37,
   "metadata": {},
   "outputs": [],
   "source": [
    "n_input = 12\n",
    "n_features = 1\n",
    "generator = TimeseriesGenerator(train, train, length=n_input, batch_size=6)"
   ]
  },
  {
   "cell_type": "code",
   "execution_count": 38,
   "metadata": {},
   "outputs": [
    {
     "name": "stdout",
     "output_type": "stream",
     "text": [
      "Epoch 1/90\n",
      "7/7 [==============================] - 0s 14ms/step - loss: 0.0151\n",
      "Epoch 2/90\n",
      "7/7 [==============================] - 0s 15ms/step - loss: 0.0097\n",
      "Epoch 3/90\n",
      "7/7 [==============================] - 0s 16ms/step - loss: 0.0102\n",
      "Epoch 4/90\n",
      "7/7 [==============================] - 0s 14ms/step - loss: 0.0107\n",
      "Epoch 5/90\n",
      "7/7 [==============================] - 0s 16ms/step - loss: 0.0103\n",
      "Epoch 6/90\n",
      "7/7 [==============================] - 0s 16ms/step - loss: 0.0082\n",
      "Epoch 7/90\n",
      "7/7 [==============================] - 0s 16ms/step - loss: 0.0075\n",
      "Epoch 8/90\n",
      "7/7 [==============================] - 0s 15ms/step - loss: 0.0056\n",
      "Epoch 9/90\n",
      "7/7 [==============================] - 0s 15ms/step - loss: 0.0072\n",
      "Epoch 10/90\n",
      "7/7 [==============================] - 0s 15ms/step - loss: 0.0072\n",
      "Epoch 11/90\n",
      "7/7 [==============================] - 0s 14ms/step - loss: 0.0075\n",
      "Epoch 12/90\n",
      "7/7 [==============================] - 0s 16ms/step - loss: 0.0098\n",
      "Epoch 13/90\n",
      "7/7 [==============================] - 0s 16ms/step - loss: 0.0090\n",
      "Epoch 14/90\n",
      "7/7 [==============================] - 0s 14ms/step - loss: 0.0068\n",
      "Epoch 15/90\n",
      "7/7 [==============================] - 0s 14ms/step - loss: 0.0090\n",
      "Epoch 16/90\n",
      "7/7 [==============================] - 0s 16ms/step - loss: 0.0046\n",
      "Epoch 17/90\n",
      "7/7 [==============================] - 0s 15ms/step - loss: 0.0074\n",
      "Epoch 18/90\n",
      "7/7 [==============================] - 0s 15ms/step - loss: 0.0112\n",
      "Epoch 19/90\n",
      "7/7 [==============================] - 0s 14ms/step - loss: 0.0068\n",
      "Epoch 20/90\n",
      "7/7 [==============================] - 0s 12ms/step - loss: 0.0051\n",
      "Epoch 21/90\n",
      "7/7 [==============================] - 0s 16ms/step - loss: 0.0059\n",
      "Epoch 22/90\n",
      "7/7 [==============================] - 0s 14ms/step - loss: 0.0070\n",
      "Epoch 23/90\n",
      "7/7 [==============================] - 0s 14ms/step - loss: 0.0058\n",
      "Epoch 24/90\n",
      "7/7 [==============================] - 0s 14ms/step - loss: 0.0068\n",
      "Epoch 25/90\n",
      "7/7 [==============================] - 0s 16ms/step - loss: 0.0145\n",
      "Epoch 26/90\n",
      "7/7 [==============================] - 0s 14ms/step - loss: 0.0072\n",
      "Epoch 27/90\n",
      "7/7 [==============================] - 0s 14ms/step - loss: 0.0102\n",
      "Epoch 28/90\n",
      "7/7 [==============================] - 0s 15ms/step - loss: 0.0105\n",
      "Epoch 29/90\n",
      "7/7 [==============================] - 0s 14ms/step - loss: 0.0061\n",
      "Epoch 30/90\n",
      "7/7 [==============================] - 0s 17ms/step - loss: 0.0063\n",
      "Epoch 31/90\n",
      "7/7 [==============================] - 0s 15ms/step - loss: 0.0062\n",
      "Epoch 32/90\n",
      "7/7 [==============================] - 0s 17ms/step - loss: 0.0050\n",
      "Epoch 33/90\n",
      "7/7 [==============================] - 0s 17ms/step - loss: 0.0078\n",
      "Epoch 34/90\n",
      "7/7 [==============================] - 0s 18ms/step - loss: 0.0060\n",
      "Epoch 35/90\n",
      "7/7 [==============================] - 0s 15ms/step - loss: 0.0053\n",
      "Epoch 36/90\n",
      "7/7 [==============================] - 0s 15ms/step - loss: 0.0067\n",
      "Epoch 37/90\n",
      "7/7 [==============================] - 0s 18ms/step - loss: 0.0073\n",
      "Epoch 38/90\n",
      "7/7 [==============================] - 0s 15ms/step - loss: 0.0148\n",
      "Epoch 39/90\n",
      "7/7 [==============================] - 0s 15ms/step - loss: 0.0116: 0s - loss: 0.013\n",
      "Epoch 40/90\n",
      "7/7 [==============================] - 0s 14ms/step - loss: 0.0092\n",
      "Epoch 41/90\n",
      "7/7 [==============================] - 0s 14ms/step - loss: 0.0057\n",
      "Epoch 42/90\n",
      "7/7 [==============================] - 0s 16ms/step - loss: 0.0166\n",
      "Epoch 43/90\n",
      "7/7 [==============================] - 0s 14ms/step - loss: 0.0110\n",
      "Epoch 44/90\n",
      "7/7 [==============================] - 0s 14ms/step - loss: 0.0147\n",
      "Epoch 45/90\n",
      "7/7 [==============================] - 0s 15ms/step - loss: 0.0105\n",
      "Epoch 46/90\n",
      "7/7 [==============================] - 0s 14ms/step - loss: 0.0109\n",
      "Epoch 47/90\n",
      "7/7 [==============================] - 0s 15ms/step - loss: 0.0076\n",
      "Epoch 48/90\n",
      "7/7 [==============================] - 0s 15ms/step - loss: 0.0060\n",
      "Epoch 49/90\n",
      "7/7 [==============================] - 0s 16ms/step - loss: 0.0032\n",
      "Epoch 50/90\n",
      "7/7 [==============================] - 0s 19ms/step - loss: 0.0061\n",
      "Epoch 51/90\n",
      "7/7 [==============================] - 0s 17ms/step - loss: 0.0056\n",
      "Epoch 52/90\n",
      "7/7 [==============================] - 0s 16ms/step - loss: 0.0097\n",
      "Epoch 53/90\n",
      "7/7 [==============================] - 0s 14ms/step - loss: 0.0081\n",
      "Epoch 54/90\n",
      "7/7 [==============================] - 0s 17ms/step - loss: 0.0084\n",
      "Epoch 55/90\n",
      "7/7 [==============================] - 0s 17ms/step - loss: 0.0112\n",
      "Epoch 56/90\n",
      "7/7 [==============================] - 0s 15ms/step - loss: 0.0061\n",
      "Epoch 57/90\n",
      "7/7 [==============================] - 0s 20ms/step - loss: 0.0063\n",
      "Epoch 58/90\n",
      "7/7 [==============================] - 0s 16ms/step - loss: 0.0085\n",
      "Epoch 59/90\n",
      "7/7 [==============================] - 0s 15ms/step - loss: 0.0082\n",
      "Epoch 60/90\n",
      "7/7 [==============================] - 0s 17ms/step - loss: 0.0070\n",
      "Epoch 61/90\n",
      "7/7 [==============================] - 0s 16ms/step - loss: 0.0096\n",
      "Epoch 62/90\n",
      "7/7 [==============================] - 0s 18ms/step - loss: 0.0132\n",
      "Epoch 63/90\n",
      "7/7 [==============================] - 0s 16ms/step - loss: 0.0046\n",
      "Epoch 64/90\n",
      "7/7 [==============================] - 0s 16ms/step - loss: 0.0104\n",
      "Epoch 65/90\n",
      "7/7 [==============================] - 0s 16ms/step - loss: 0.0062\n",
      "Epoch 66/90\n",
      "7/7 [==============================] - 0s 17ms/step - loss: 0.0103\n",
      "Epoch 67/90\n",
      "7/7 [==============================] - 0s 16ms/step - loss: 0.0058\n",
      "Epoch 68/90\n",
      "7/7 [==============================] - 0s 19ms/step - loss: 0.0095\n",
      "Epoch 69/90\n",
      "7/7 [==============================] - 0s 16ms/step - loss: 0.0061\n",
      "Epoch 70/90\n",
      "7/7 [==============================] - 0s 17ms/step - loss: 0.0053\n",
      "Epoch 71/90\n",
      "7/7 [==============================] - 0s 15ms/step - loss: 0.0067\n",
      "Epoch 72/90\n",
      "7/7 [==============================] - 0s 15ms/step - loss: 0.0064\n",
      "Epoch 73/90\n",
      "7/7 [==============================] - 0s 16ms/step - loss: 0.0167\n",
      "Epoch 74/90\n",
      "7/7 [==============================] - 0s 16ms/step - loss: 0.0165\n",
      "Epoch 75/90\n",
      "7/7 [==============================] - 0s 15ms/step - loss: 0.0080\n",
      "Epoch 76/90\n",
      "7/7 [==============================] - 0s 12ms/step - loss: 0.0060\n",
      "Epoch 77/90\n",
      "7/7 [==============================] - 0s 14ms/step - loss: 0.0047\n",
      "Epoch 78/90\n",
      "7/7 [==============================] - 0s 14ms/step - loss: 0.0071\n",
      "Epoch 79/90\n",
      "7/7 [==============================] - 0s 16ms/step - loss: 0.0071\n",
      "Epoch 80/90\n",
      "7/7 [==============================] - 0s 14ms/step - loss: 0.0047\n",
      "Epoch 81/90\n",
      "7/7 [==============================] - 0s 15ms/step - loss: 0.0058\n",
      "Epoch 82/90\n",
      "7/7 [==============================] - 0s 15ms/step - loss: 0.0075\n",
      "Epoch 83/90\n",
      "7/7 [==============================] - 0s 16ms/step - loss: 0.0051\n",
      "Epoch 84/90\n",
      "7/7 [==============================] - 0s 17ms/step - loss: 0.0059\n",
      "Epoch 85/90\n",
      "7/7 [==============================] - 0s 15ms/step - loss: 0.0053\n",
      "Epoch 86/90\n",
      "7/7 [==============================] - 0s 15ms/step - loss: 0.0072\n",
      "Epoch 87/90\n",
      "7/7 [==============================] - 0s 14ms/step - loss: 0.0058\n",
      "Epoch 88/90\n",
      "7/7 [==============================] - 0s 18ms/step - loss: 0.0041\n",
      "Epoch 89/90\n",
      "7/7 [==============================] - 0s 17ms/step - loss: 0.0057\n",
      "Epoch 90/90\n",
      "7/7 [==============================] - 0s 16ms/step - loss: 0.0073\n"
     ]
    },
    {
     "data": {
      "text/plain": [
       "<keras.callbacks.callbacks.History at 0x1d2d22695c8>"
      ]
     },
     "execution_count": 38,
     "metadata": {},
     "output_type": "execute_result"
    }
   ],
   "source": [
    "model.fit_generator(generator,epochs=90)"
   ]
  },
  {
   "cell_type": "code",
   "execution_count": 39,
   "metadata": {},
   "outputs": [],
   "source": [
    "pred_list = []\n",
    "\n",
    "batch = train[-n_input:].reshape((1, n_input, n_features))\n",
    "\n",
    "for i in range(n_input):   \n",
    "    pred_list.append(model.predict(batch)[0]) \n",
    "    batch = np.append(batch[:,1:,:],[[pred_list[i]]],axis=1)"
   ]
  },
  {
   "cell_type": "code",
   "execution_count": 43,
   "metadata": {},
   "outputs": [],
   "source": [
    "from pandas.tseries.offsets import DateOffset\n",
    "add_dates = [df.index[-1] + DateOffset(months=x) for x in range(0,13) ]\n",
    "future_dates = pd.DataFrame(index=add_dates[1:],columns=df.columns)"
   ]
  },
  {
   "cell_type": "code",
   "execution_count": 44,
   "metadata": {},
   "outputs": [],
   "source": [
    "df_predict = pd.DataFrame(scaler.inverse_transform(pred_list),\n",
    "                          index=future_dates[-n_input:].index, columns=['Prediction'])\n",
    "\n",
    "df_proj = pd.concat([df,df_predict], axis=1)"
   ]
  },
  {
   "cell_type": "code",
   "execution_count": 45,
   "metadata": {},
   "outputs": [
    {
     "name": "stderr",
     "output_type": "stream",
     "text": [
      "No handles with labels found to put in legend.\n"
     ]
    },
    {
     "data": {
      "image/png": "[encoded data removed]",
      "text/plain": [
       "<Figure size 1440x360 with 1 Axes>"
      ]
     },
     "metadata": {
      "needs_background": "light"
     },
     "output_type": "display_data"
    }
   ],
   "source": [
    "plt.figure(figsize=(20, 5))\n",
    "plt.plot(df_proj.index, df_proj['Imports2'])\n",
    "plt.plot(df_proj.index, df_proj['Prediction'], color='r')\n",
    "plt.legend(loc='best', fontsize='xx-large')\n",
    "plt.xticks(fontsize=18)\n",
    "plt.yticks(fontsize=16)\n",
    "plt.show()"
   ]
  },
  {
   "cell_type": "code",
   "execution_count": null,
   "metadata": {},
   "outputs": [],
   "source": []
  }
 ],
 "metadata": {
  "kernelspec": {
   "display_name": "Python 3",
   "language": "python",
   "name": "python3"
  },
  "language_info": {
   "codemirror_mode": {
    "name": "ipython",
    "version": 3
   },
   "file_extension": ".py",
   "mimetype": "text/x-python",
   "name": "python",
   "nbconvert_exporter": "python",
   "pygments_lexer": "ipython3",
   "version": "3.7.4"
  }
 },
 "nbformat": 4,
 "nbformat_minor": 2
}
